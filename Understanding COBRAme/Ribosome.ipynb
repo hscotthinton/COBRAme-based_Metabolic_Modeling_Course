{
 "cells": [
  {
   "cell_type": "markdown",
   "metadata": {},
   "source": [
    "# Modeling the Ribosome in COBRAme"
   ]
  },
  {
   "cell_type": "markdown",
   "metadata": {},
   "source": [
    "## 1. Load the python packages"
   ]
  },
  {
   "cell_type": "code",
   "execution_count": 1,
   "metadata": {},
   "outputs": [
    {
     "name": "stderr",
     "output_type": "stream",
     "text": [
      "/usr/lib/python3.6/site-packages/cobra-0.5.11-py3.6-linux-x86_64.egg/cobra/solvers/__init__.py:63: UserWarning: No LP solvers found\n",
      "  warn(\"No LP solvers found\")\n",
      "/usr/lib/python3.6/site-packages/cobra-0.5.11-py3.6-linux-x86_64.egg/cobra/io/sbml3.py:24: UserWarning: Install lxml for faster SBML I/O\n",
      "  warn(\"Install lxml for faster SBML I/O\")\n",
      "/usr/lib/python3.6/site-packages/cobra-0.5.11-py3.6-linux-x86_64.egg/cobra/io/__init__.py:12: UserWarning: cobra.io.sbml requires libsbml\n",
      "  warn(\"cobra.io.sbml requires libsbml\")\n"
     ]
    }
   ],
   "source": [
    "from __future__ import print_function, division, absolute_import\n",
    "\n",
    "# python imports\n",
    "import re\n",
    "from os.path import join\n",
    "from collections import defaultdict\n",
    "import pickle\n",
    "import pandas as pd\n",
    "\n",
    "# third party imports\n",
    "import pandas\n",
    "import tabulate\n",
    "import cobra\n",
    "pd.set_option('display.max_columns', 100)\n",
    "pd.set_option('display.width',100)\n",
    "pd.set_option('display.max_colwidth',100)\n",
    "\n",
    "# ECOLIme\n",
    "import ecolime\n",
    "from ecolime import (transcription, translation, flat_files, generics, formulas, compartments)\n",
    "\n",
    "# COBRAme\n",
    "import cobrame\n",
    "from cobrame.util import building, mu, me_model_interface\n",
    "#from cobrame.io.json import save_json_me_model, save_reduced_json_me_model"
   ]
  },
  {
   "cell_type": "markdown",
   "metadata": {},
   "source": [
    "## 2. Load the iJL1678b model\n",
    "\n",
    "Load the iJL1678b model in pickle format that is located in the current directory."
   ]
  },
  {
   "cell_type": "code",
   "execution_count": 2,
   "metadata": {},
   "outputs": [],
   "source": [
    "with open('iJL1678b.pickle', 'rb') as f:\n",
    "    me = pickle.load(f)"
   ]
  },
  {
   "cell_type": "markdown",
   "metadata": {},
   "source": [
    "## 3. Finding the reactions that produce the ribosomes (ComplexFormation)\n",
    "\n",
    "Let's begin by finding the reactants used to create the ribosome fomr the \"Complex\" reaction \"formation_ribosome.\""
   ]
  },
  {
   "cell_type": "code",
   "execution_count": 3,
   "metadata": {
    "scrolled": true
   },
   "outputs": [
    {
     "data": {
      "text/plain": [
       "[<Complex RpsD_mono at 0x7f1dcacdd4e0>,\n",
       " <Complex RpsE_mono at 0x7f1dc621b438>,\n",
       " <Complex RpsF_mono at 0x7f1dc646b8d0>,\n",
       " <Complex RpsG_mono at 0x7f1dc62847f0>,\n",
       " <Complex RpsH_mono at 0x7f1dc62a7d30>,\n",
       " <Complex RpsI_mono at 0x7f1dc641ada0>,\n",
       " <Complex RpsK_mono at 0x7f1dc63e94a8>,\n",
       " <Complex RpsL_mono at 0x7f1dc638d278>,\n",
       " <Complex RpsM_mono at 0x7f1dc620e2e8>,\n",
       " <Complex RpsO_mono at 0x7f1dc6352d30>,\n",
       " <Complex RpsP_mono at 0x7f1dc6460550>,\n",
       " <Complex RpsQ_mono at 0x7f1dc61bf198>,\n",
       " <Complex RpsR_mono at 0x7f1dc639a358>,\n",
       " <Complex RpsS_mono at 0x7f1dc633c320>,\n",
       " <Complex RpsT_mono at 0x7f1dc6319470>,\n",
       " <GenericComponent generic_16s_rRNAs at 0x7f1dc48e6c18>,\n",
       " <Complex RpsA_mono at 0x7f1dc628e780>,\n",
       " <Complex RpsB_mono at 0x7f1dc63474e0>,\n",
       " <Complex RpsC_mono at 0x7f1dc620ec88>,\n",
       " <Complex RpsJ_mono at 0x7f1dcacdd4a8>,\n",
       " <Complex RpsN_mono at 0x7f1dc63d3e48>,\n",
       " <Complex RpsU_mono at 0x7f1dc6319ef0>,\n",
       " <Complex Sra_mono at 0x7f1dc61bff98>,\n",
       " <GenericComponent generic_23s_rRNAs at 0x7f1dc48e6f98>,\n",
       " <GenericComponent generic_5s_rRNAs at 0x7f1dc4875358>,\n",
       " <Complex RplA_mono at 0x7f1dc628eda0>,\n",
       " <Complex RplB_mono at 0x7f1dc63252b0>,\n",
       " <Complex RplC_mono at 0x7f1dcacdd518>,\n",
       " <Complex RplD_mono at 0x7f1dcacdd588>,\n",
       " <Complex RplE_mono at 0x7f1dc630ecc0>,\n",
       " <Complex RplI_mono at 0x7f1dc639add8>,\n",
       " <Complex RplJ_mono at 0x7f1dc626b438>,\n",
       " <Complex RplK_mono at 0x7f1dc629b400>,\n",
       " <Complex RplM_mono at 0x7f1dcacdd5c0>,\n",
       " <Complex RplQ_mono at 0x7f1dc63c85f8>,\n",
       " <Complex RplS_mono at 0x7f1dc63d3128>,\n",
       " <Complex RplT_mono at 0x7f1dc63e9ba8>,\n",
       " <Complex RplU_mono at 0x7f1dc623d9b0>,\n",
       " <Complex RplV_mono at 0x7f1dc626b978>,\n",
       " <Complex RplW_mono at 0x7f1dc6325860>,\n",
       " <Complex RplX_mono at 0x7f1dc6284c50>,\n",
       " <Complex RpmC_mono at 0x7f1dc6261518>,\n",
       " <Complex RpmG_mono at 0x7f1dc636bfd0>,\n",
       " <Complex RpmH_mono at 0x7f1dc635ec50>,\n",
       " <Complex rpL7/12_mod_1:acetyl at 0x7f1dc604f7f0>,\n",
       " <Complex RplF_mono at 0x7f1dc61b57b8>,\n",
       " <Complex RplN_mono at 0x7f1dc626bf98>,\n",
       " <Complex RplO_mono at 0x7f1dc629b710>,\n",
       " <Complex RplP_mono at 0x7f1dc61bf668>,\n",
       " <Complex RplR_mono at 0x7f1dc62bc630>,\n",
       " <Complex RplY_mono at 0x7f1dc6448390>,\n",
       " <Complex RpmA_mono at 0x7f1dc6232400>,\n",
       " <Complex RpmB_mono at 0x7f1dc6454630>,\n",
       " <Complex RpmD_mono at 0x7f1dc639a668>,\n",
       " <Complex RpmE_mono at 0x7f1dc6352b00>,\n",
       " <Complex RpmF_mono at 0x7f1dc61f76d8>,\n",
       " <Complex RpmI_mono at 0x7f1dc62033c8>,\n",
       " <Complex RpmJ_mono at 0x7f1dc63d3c88>,\n",
       " <Complex Tig_mono at 0x7f1dc636ba20>,\n",
       " <Metabolite gtp_c at 0x7f1dcacb6f98>,\n",
       " <Complex RsmC_mono at 0x7f1dc62262e8>,\n",
       " <Metabolite amet_c at 0x7f1dc67ad208>,\n",
       " <Complex RsmD_mono at 0x7f1dc641abe0>,\n",
       " <Complex YggJ_dim at 0x7f1dc630eb00>,\n",
       " <GenericComponent generic_16Sm4Cm1402 at 0x7f1dc48e6518>,\n",
       " <Complex RsmF_mono at 0x7f1dc6325390>,\n",
       " <Complex RsmB_mono at 0x7f1dc639a588>,\n",
       " <Complex KsgA_mono at 0x7f1dc62d4630>,\n",
       " <Complex RsmG_mono at 0x7f1dc638d358>,\n",
       " <Complex RsuA_mono at 0x7f1dc61cb828>,\n",
       " <Complex RlmM_mono at 0x7f1dc62b0860>,\n",
       " <Metabolite nadh_c at 0x7f1dc60e2a58>,\n",
       " <Complex RlmB_dim at 0x7f1dc6276780>,\n",
       " <Complex RrmA_dim_mod_2:zn2 at 0x7f1dc605b390>,\n",
       " <Complex RlmN_mono_mod_1:4fe4s at 0x7f1dc605b6a0>,\n",
       " <Complex RlmG_mono at 0x7f1dc6448fd0>,\n",
       " <Complex RlmL_dim at 0x7f1dc6331470>,\n",
       " <Complex RlmI_dim at 0x7f1dc6376128>,\n",
       " <Complex RumA_mono_mod_1:4fe4s at 0x7f1dc604f710>,\n",
       " <Complex RumB_mono_mod_1:4fe4s at 0x7f1dc604f630>,\n",
       " <Complex RlmF_mono at 0x7f1dc636b630>,\n",
       " <Complex RrmJ_mono at 0x7f1dc6425668>,\n",
       " <Complex RluD_mono_mod_1:mg2 at 0x7f1dc604fb00>,\n",
       " <Complex RlmH_dim at 0x7f1dc635ea90>,\n",
       " <Complex YmfC_mono at 0x7f1dc6431940>,\n",
       " <Complex RluC_mono at 0x7f1dc641a438>,\n",
       " <Complex YjbC_mono at 0x7f1dc63e9978>,\n",
       " <Complex RluB_mono at 0x7f1dc63a4940>,\n",
       " <Complex RluA_mono at 0x7f1dc66f92e8>,\n",
       " <Complex Era_dim at 0x7f1dc6425240>,\n",
       " <Metabolite h2o_c at 0x7f1dcacb6a20>,\n",
       " <Complex RbfA_mono at 0x7f1dc62bcbe0>,\n",
       " <Complex RimM_mono at 0x7f1dc6347400>,\n",
       " <Metabolite mg2_c at 0x7f1dc61ee1d0>]"
      ]
     },
     "execution_count": 3,
     "metadata": {},
     "output_type": "execute_result"
    }
   ],
   "source": [
    "me.reactions.get_by_id('formation_ribosome').reactants"
   ]
  },
  {
   "cell_type": "markdown",
   "metadata": {},
   "source": [
    "Reorganizing these reactants.\n",
    "\n",
    "**30S ribosomal subunit**\n",
    "1. 16S ribosomal RNA = RrsA (b3851, rrsA, TUO-1181)\n",
    "2. 30S ribosomal subunit protein S1 = RpsA (b0911, rpsA, TU361/TU564/TU565)\n",
    "3. 30S ribosomal subunit protein S2 = RpsB (b0169, rpsB, TU00345)\n",
    "4. 30S ribosomal subunit protein S3 = RpsC (b3314, rpsC, TU00347)\n",
    "5. 30S ribosomal subunit protein S4 = RpsD (b3296, rpsD,TU00349/TU0-14658)\n",
    "6. 30S ribosomal subunit protein S5 = RpsE (b3303, rpsE, TU00337)\n",
    "7. 30S ribosomal subunit protein S6 = RpsF (b4200, rpsF, TU00346)\n",
    "8. 30S ribosomal subunit protein S7 = RpsG (b3341, rpsG, TU00348)\n",
    "9. 30S ribosomal subunit protein S8 = RpsH (b3306, rpsH, TU00337)\n",
    "10. 30S ribosomal subunit protein S9 = RpsI (b3230, rpsI, TU00336)\n",
    "11. 30S ribosomal subunit protein S10 = RpsJ (b3321, rpsJ, TU00347)\n",
    "12. 30S ribosomal subunit protein S11 = RpsK (b3297, rpsK, TU00349/TU0-14658)\n",
    "13. 30S ribosomal subunit protein S12 = RpsL (b3329, rpsL, TU00348)\n",
    "14. 30S ribosomal subunit protein S13 = RpsM (b3298, rpsM, TU00349/TU0-14658)\n",
    "15. 30S ribosomal subunit protein S14 = RpsN (b3307, rpsN, TU00347)\n",
    "16. 30S ribosomal subunit protein S15 = RpsO (b3165, rpsO, TU341/TU0-8474)\n",
    "17. 30S ribosomal subunit protein S16 = RpsP (b2609, rpsP, TU00351)\n",
    "18. 30S ribosomal subunit protein S17 = RpsQ (b3311, rpsQ, TU00347)\n",
    "19. 30S ribosomal subunit protein S18 = RpsR (b4202, rpsR, TU00346)\n",
    "20. 30S ribosomal subunit protein S19 = RpsS (b3316, rpsS, TU00347)\n",
    "21. 30S ribosomal subunit protein S20 = RpsT (b0023, rpsT, TU0-7842/TU0-7844)\n",
    "22. 30S ribosomal subunit protein S21 = RpsU (b3065, rpsU, TU00352/TU00434/TU00435)\n",
    "\n",
    "**50S ribosomal subunit**\n",
    "1. 23S ribosomal RNA = RrlA (b3854, rrlA, TU0-1181/TU0-45165/TU0-14486)\n",
    "2. 5S ribosomal RNA = RrfA (b3855, rrfA, TU0-1181/TU0-45165/TU0-14486)\n",
    "3. 50S ribosomal subunit protein L1 = RplA (b3984, rplA, TU0-6512)\n",
    "4. 50S ribosomal subunit protein L2 = RplB (b3317, rplB, TU00347)\n",
    "5. 50S ribosomal subunit protein L3 = RplC (b3320, rplC, TU00347)\n",
    "6. 50S ribosomal subunit protein L4 = RplD (b3319, rplD, TU00347)\n",
    "7. 50S ribosomal subunit protein L5 = RplE (b3308, rplE, TU00337)\n",
    "8. 50S ribosomal subunit protein L6 = RplF (b3305, rplF, TU00337)\n",
    "9. 50S ribosomal subunit protein L7/L12 dimer = (RplL) (b3986, rplL, TU0-6512/TU00335/TU0-8464)\n",
    "10. 50S ribosomal protein complex L8 = (RplJ)([RplL]) (b3985, rplJ, TU0-6512/TU00335 AND b3986, rplL, TU0-6512/TU00335/TU0-8464)\n",
    "11. 50S ribosomal subunit protein L9 = RplI (b4203, rpll, TU00346)\n",
    "12. 50S ribosomal subunit protein L10 = RplJ (b3985, rplJ, TU0-6512/TU00335)\n",
    "13. 50S ribosomal subunit protein L11 = RplK (b3983, rplL, TU0-6512)\n",
    "14. 50S ribosomal subunit protein L12 = RplL (b3986, rplL, TU0-6512/TU00335/TU0-8464)\n",
    "15. 50S ribosomal subunit protein L13 = RplM (b3231,rplM, TU00336)\n",
    "16. 50S ribosomal subunit protein L14 = RplN (b3310, rplN, TU00337)\n",
    "17. 50S ribosomal subunit protein L15 = RplO (b3301, rplO, TU00337)\n",
    "18. 50S ribosomal subunit protein L16 = RplP (b3313, rplP, TU00347)\n",
    "19. 50S ribosomal subunit protein L17 = RplQ (b3294, rplQ, TU00349 or TU0-14658 )\n",
    "20. 50S ribosomal subunit protein L18 = RplR (b3304, rplR, TU00337)\n",
    "21. 50S ribosomal subunit protein L19 = RplS (b2606, rplS, TU00351)\n",
    "22. 50S ribosomal subunit protein L20 = RplT (b1716, rplT, TU0-14257/TU0-3305/TU0-14255/TU0-8855)\n",
    "23. 50S ribosomal subunit protein L21 = RplU (b3186,rplU, TU0-42628)\n",
    "24. 50S ribosomal subunit protein L22 = RplV (b3315, rplV, TU00347)\n",
    "25. 50S ribosomal subunit protein L23 = RplW (b3318, rplW, TU00347)\n",
    "26. 50S ribosomal subunit protein L24 = RplX (b3309, rplX, TU00337)\n",
    "27. 50S ribosomal subunit protein L25 = RplY (b2185, rplY, TU0-13557/PM0-45275/PM0-45274/PM0-45273)\n",
    "28. 50S ribosomal subunit protein L27 = RpmA (b3185, rpmA, TU0-42628)\n",
    "29. 50S ribosomal subunit protein L28 = RpmB (b3637, rpmB, TU0-5522/TU0-5543)\n",
    "30. 50S ribosomal subunit protein L29 = RpmC (b3312, rpmC, TU00347)\n",
    "31. 50S ribosomal subunit protein L30 = RpmD (b3302, rpmD, TU00337)\n",
    "32. 50S ribosomal subunit protein L31 = RpmE (b3936, rmpE, TU0-45156/TU0-8506)\n",
    "33. 50S ribosomal subunit protein L32 = RpmF (b1089, rpmF, TU0-1/TU601/TU602)\n",
    "34. 50S ribosomal subunit protein L33 = RpmG (b3636, rpmG, TU0-5522/TU0-5543)\n",
    "35. 50S ribosomal subunit protein L34 = RpmH (b3703,rpmH, TU743/TU00340/TU682)\n",
    "36. 50S ribosomal subunit protein L35 = RpmI (b1717, rpmI, TU0-14257/TU0-3305/TU0-14255)\n",
    "27. 50S ribosomal subunit protein L36 = RpmJ (b3299, rpmJ, TU00337)\n",
    "\n",
    "**16S rRNA methyltransferases**\n",
    "1. KsgA_mono, 16S rRNA dimethyltransferase (b0051, rmsa, TU00362/TU0-5221/TU0-5186)\n",
    "2. RsmB_mono, 16S rRNA methyltransferase (b3289, rsmB, TU0-14355) \n",
    "3. RsmC_mono, 16S rRNA methyltransferase (b4371, rsmC, TU0-14215/PM0-46104/PM0-46105)\n",
    "4. RsmD_mono, 16S rRNA methyltransferase (b3465, rsmD, TU0-13942/PM0-45784/PM0-46554/PM0-45785/PM0-45783)\n",
    "5. YggJ_dim (rsmE), 16S rRNA methyltransferase (b2946, rsmE, TU0-13805/PM0-45543/PM0-45544)\n",
    "6. RsmF_mono, 16S rRNA methyltransferase (b1835, rsmF, TU0-13428) \n",
    "7. RsmG_mono, 16S rRNA methyltransferase (b3740, rsmG, TU0-45168/TU0-14029)\n",
    "\n",
    "**23S rRNA methyltransferases**\n",
    "1. RrmA_dim_mod_2:zn2, 23S rRNA methyltransferase (b1822, rlmA, TU0-13421/PM0-45104)\n",
    "2. RlmB_dim, 23S rRNA methyltransferase (b4180, rlmB, TU0-8502)\n",
    "3. RumB_mono_mod_1:4fe4s, 23S rRNA methyltransferase (b0859, rlmC, TU0-13072/PM0-44652/PM0-44653)\n",
    "4. RumA_mono_mod_1:4fe4s, 23S rRNA methyltransferase (b2785, rlmD, TU0-13735)\n",
    "5. RrmJ_mono, 23S rRNA methyltransferase (b3179, rlmE, TU00277/TU00414)\n",
    "6. RlmF_mono, 23S rRNA methyltransferase (b0807, rlmF, TU0-8568/PM0-44630/PM0-44631)\n",
    "7. RlmG_mono, 23S rRNA methyltransferase (b3084, rlmG, TU0-13855/PM0-45623)\n",
    "8. RlmH_dim, 23S rRNA methyltransferase (b0636, rlmH, TU0-13009)\n",
    "9. RlmI_dim, 23S rRNA methyltransferase (b0967, rlmI, TU0-13103/PM0-44694)\n",
    "10. RlmL_dim, fused 23S rRNA methyltransferase (b0948, rlmL, TU0-2001)\n",
    "11. RlmM_mono, 23S rRNA methyltransferase (b2806, rlmM, TU0-14306/PM0-45481)\n",
    "12. RlmN_mono_mod_1:4fe4s, 23S rRNA methyltransferase/tRNA methyltransferase (b2517, rlmN, TU0-13650)\n",
    "\n",
    "**23S rRNA pseudouridine synthase**\n",
    "1. RluA_mono, 23S rRNA pseudouridine and tRNA pseudouridine synthase (b0058, rluA, TU0-3841)\n",
    "2. RluB_mono, 23S rRNA pseudouridine synthase (b1269, rluB, TU0-13195)\n",
    "3. RluC_mono, 23S rRNA pseudouridine synthase (b1086, rluC, TU0-13134)\n",
    "4. RluD_mono_mod_1:mg2, 23S rRNA pseudouridine synthase (b2594, rluD, TU0-13675)\n",
    "5. YmfC_mono, 23S rRNA pseudouridine synthase (b1135, rluE, TU0-13145)\n",
    "6. YjbC_mono (rluF), 23S rRNA pseudouridine and tRNA-Tyr pseudouridine synthase (b4022, rluF, TU0-8505/PM0-45984/PM0-45985)\n",
    "\n",
    "**16S rRNA pseudouridine synthase**\n",
    "1. RsuA_mono, 16S rRNA pseudouridine synthase (b2183, rsuA, TU0-13555/PM0-45272/PM0-45271)\n",
    "\n",
    "**30S ribosomal maturation**\n",
    "1. Era_dim, 30S ribosomal subunit maturation GTPase Era (b2566, era, TU483)\n",
    "2. RimM_mono, ribosome maturation factor RimM (b2608, rimM, TU00351)\n",
    "3. Tig_mono, chaperone protein; trigger factor (b0436, tig, TU0-12928/PM0-9326/TU0-14614)\n",
    "4. Sra_mono, ribosome-associated protein Sra (b1480, sra, TU0-7141/TU0-3901)\n",
    "\n",
    "**30S ribosome binding factor**\n",
    "1. RbfA_mono, 30S ribosome binding factor (b3167, rbfA, TU341)\n",
    "\n",
    "**Metabolites**\n",
    "1. gtp_c\n",
    "2. amet_c\n",
    "3. nadh_c\n",
    "4. h2o_c\n",
    "5. mg2_c\n",
    "\n",
    "https://www.biocyc.org/ECOLI/NEW-IMAGE?type=ENZYME&object=CPLX0-3964"
   ]
  },
  {
   "cell_type": "markdown",
   "metadata": {},
   "source": [
    "The products of the \"formation_ribosome\" reaction are"
   ]
  },
  {
   "cell_type": "code",
   "execution_count": 4,
   "metadata": {},
   "outputs": [
    {
     "data": {
      "text/plain": [
       "[<Constraint prosthetic_group_biomass at 0x7f1dcadd63c8>,\n",
       " <Ribosome ribosome at 0x7f1dc9fc34e0>,\n",
       " <Metabolite ahcys_c at 0x7f1dc67ad400>,\n",
       " <Metabolite h_c at 0x7f1dcacb6cf8>,\n",
       " <Metabolite nad_c at 0x7f1dc619bfd0>,\n",
       " <Metabolite pi_c at 0x7f1dcacb6c18>,\n",
       " <Metabolite gdp_c at 0x7f1dc9fc3b00>]"
      ]
     },
     "execution_count": 4,
     "metadata": {},
     "output_type": "execute_result"
    }
   ],
   "source": [
    "me.reactions.get_by_id('formation_ribosome').products"
   ]
  },
  {
   "cell_type": "markdown",
   "metadata": {},
   "source": [
    "The total formation_ribosome reaction is"
   ]
  },
  {
   "cell_type": "code",
   "execution_count": 5,
   "metadata": {},
   "outputs": [
    {
     "data": {
      "text/plain": [
       "'4.27350427350427e-6*mu Era_dim + 8.54700854700855e-6*mu KsgA_mono + 4.27350427350427e-6*mu RbfA_mono + 4.27350427350427e-6*mu RimM_mono + 4.27350427350427e-6*mu RlmB_dim + 4.27350427350427e-6*mu RlmF_mono + 4.27350427350427e-6*mu RlmG_mono + 4.27350427350427e-6*mu RlmH_dim + 4.27350427350427e-6*mu RlmI_dim + 8.54700854700855e-6*mu RlmL_dim + 4.27350427350427e-6*mu RlmM_mono + 4.27350427350427e-6*mu RlmN_mono_mod_1:4fe4s + 4.27350427350427e-6*mu RluA_mono + 4.27350427350427e-6*mu RluB_mono + 1.28205128205128e-5*mu RluC_mono + 1.28205128205128e-5*mu RluD_mono_mod_1:mg2 + RplA_mono + RplB_mono + RplC_mono + RplD_mono + RplE_mono + RplF_mono + RplI_mono + RplJ_mono + RplK_mono + RplM_mono + RplN_mono + RplO_mono + RplP_mono + RplQ_mono + RplR_mono + RplS_mono + RplT_mono + RplU_mono + RplV_mono + RplW_mono + RplX_mono + RplY_mono + RpmA_mono + RpmB_mono + RpmC_mono + RpmD_mono + RpmE_mono + RpmF_mono + RpmG_mono + RpmH_mono + RpmI_mono + RpmJ_mono + RpsA_mono + RpsB_mono + RpsC_mono + RpsD_mono + RpsE_mono + RpsF_mono + RpsG_mono + RpsH_mono + RpsI_mono + RpsJ_mono + RpsK_mono + RpsL_mono + RpsM_mono + RpsN_mono + RpsO_mono + RpsP_mono + RpsQ_mono + RpsR_mono + RpsS_mono + RpsT_mono + RpsU_mono + 4.27350427350427e-6*mu RrmA_dim_mod_2:zn2 + 4.27350427350427e-6*mu RrmJ_mono + 4.27350427350427e-6*mu RsmB_mono + 4.27350427350427e-6*mu RsmC_mono + 4.27350427350427e-6*mu RsmD_mono + 4.27350427350427e-6*mu RsmF_mono + 4.27350427350427e-6*mu RsmG_mono + 4.27350427350427e-6*mu RsuA_mono + 4.27350427350427e-6*mu RumA_mono_mod_1:4fe4s + 4.27350427350427e-6*mu RumB_mono_mod_1:4fe4s + Sra_mono + Tig_mono + 4.27350427350427e-6*mu YggJ_dim + 4.27350427350427e-6*mu YjbC_mono + 4.27350427350427e-6*mu YmfC_mono + 27.0 amet_c + 4.27350427350427e-6*mu generic_16Sm4Cm1402 + generic_16s_rRNAs + generic_23s_rRNAs + generic_5s_rRNAs + 3.0 gtp_c + 2.0 h2o_c + 171.0 mg2_c + nadh_c + 2.0 rpL7/12_mod_1:acetyl --> 27.0 ahcys_c + 2.0 gdp_c + 28.0 h_c + nad_c + 2.0 pi_c + 4.5368885400000005 prosthetic_group_biomass + ribosome'"
      ]
     },
     "execution_count": 5,
     "metadata": {},
     "output_type": "execute_result"
    }
   ],
   "source": [
    "me.reactions.get_by_id('formation_ribosome').reaction"
   ]
  },
  {
   "cell_type": "code",
   "execution_count": null,
   "metadata": {},
   "outputs": [],
   "source": []
  }
 ],
 "metadata": {
  "kernelspec": {
   "display_name": "Python 3",
   "language": "python",
   "name": "python3"
  },
  "language_info": {
   "codemirror_mode": {
    "name": "ipython",
    "version": 3
   },
   "file_extension": ".py",
   "mimetype": "text/x-python",
   "name": "python",
   "nbconvert_exporter": "python",
   "pygments_lexer": "ipython3",
   "version": "3.6.1"
  }
 },
 "nbformat": 4,
 "nbformat_minor": 2
}
